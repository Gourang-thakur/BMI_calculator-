{
 "cells": [
  {
   "cell_type": "code",
   "execution_count": 5,
   "id": "2c9afbdb",
   "metadata": {},
   "outputs": [
    {
     "name": "stdout",
     "output_type": "stream",
     "text": [
      "enter your height in m: 1.75\n"
     ]
    }
   ],
   "source": [
    "height = input(\"enter your height in m: \")"
   ]
  },
  {
   "cell_type": "code",
   "execution_count": 6,
   "id": "d2632d73",
   "metadata": {},
   "outputs": [
    {
     "name": "stdout",
     "output_type": "stream",
     "text": [
      "enter your weight in kg: 80\n"
     ]
    }
   ],
   "source": [
    "weight = input(\"enter your weight in kg: \")"
   ]
  },
  {
   "cell_type": "code",
   "execution_count": 7,
   "id": "8abd54c1",
   "metadata": {},
   "outputs": [
    {
     "name": "stdout",
     "output_type": "stream",
     "text": [
      "26\n"
     ]
    }
   ],
   "source": [
    "print(int(int(weight)/(float(height)**float(2))))"
   ]
  },
  {
   "cell_type": "code",
   "execution_count": null,
   "id": "d9d7d1c9",
   "metadata": {},
   "outputs": [],
   "source": []
  }
 ],
 "metadata": {
  "kernelspec": {
   "display_name": "Python 3 (ipykernel)",
   "language": "python",
   "name": "python3"
  },
  "language_info": {
   "codemirror_mode": {
    "name": "ipython",
    "version": 3
   },
   "file_extension": ".py",
   "mimetype": "text/x-python",
   "name": "python",
   "nbconvert_exporter": "python",
   "pygments_lexer": "ipython3",
   "version": "3.9.12"
  }
 },
 "nbformat": 4,
 "nbformat_minor": 5
}
